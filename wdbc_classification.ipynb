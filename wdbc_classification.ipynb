{
 "cells": [
  {
   "cell_type": "code",
   "execution_count": 1,
   "metadata": {},
   "outputs": [
    {
     "name": "stderr",
     "output_type": "stream",
     "text": [
      "Using TensorFlow backend.\n"
     ]
    }
   ],
   "source": [
    "import keras\n",
    "import pandas as pd\n",
    "import numpy as np\n",
    "import glob"
   ]
  },
  {
   "cell_type": "markdown",
   "metadata": {},
   "source": [
    "# load data"
   ]
  },
  {
   "cell_type": "code",
   "execution_count": 2,
   "metadata": {},
   "outputs": [],
   "source": [
    "basic_path = glob.glob(\"C:\\\\Users\\\\Owner\\\\Desktop\\\\DataSet\\\\*.data\")"
   ]
  },
  {
   "cell_type": "code",
   "execution_count": 3,
   "metadata": {},
   "outputs": [
    {
     "data": {
      "text/plain": [
       "['C:\\\\Users\\\\Owner\\\\Desktop\\\\DataSet\\\\wdbc.data',\n",
       " 'C:\\\\Users\\\\Owner\\\\Desktop\\\\DataSet\\\\wpbc.data']"
      ]
     },
     "execution_count": 3,
     "metadata": {},
     "output_type": "execute_result"
    }
   ],
   "source": [
    "basic_path"
   ]
  },
  {
   "cell_type": "code",
   "execution_count": 4,
   "metadata": {},
   "outputs": [],
   "source": [
    "wdbc_path = basic_path[0]"
   ]
  },
  {
   "cell_type": "code",
   "execution_count": 5,
   "metadata": {},
   "outputs": [],
   "source": [
    "col_name = [\"Id\",\"Diagnosis\",1,2,3,4,5,6,7,8,9,10,11,12,13,14,15,16,17,18,19,20,21,22,23,24,25,26,27,28,29,30]"
   ]
  },
  {
   "cell_type": "code",
   "execution_count": 6,
   "metadata": {},
   "outputs": [],
   "source": [
    "wdbc_data = pd.read_csv(wdbc_path,names = col_name)"
   ]
  },
  {
   "cell_type": "markdown",
   "metadata": {},
   "source": [
    "# delete Id"
   ]
  },
  {
   "cell_type": "code",
   "execution_count": 7,
   "metadata": {},
   "outputs": [],
   "source": [
    "del wdbc_data[\"Id\"]\n",
    "\n",
    "train_data = wdbc_data.loc[0:468]\n",
    "\n",
    "test_data = wdbc_data.loc[469:]"
   ]
  },
  {
   "cell_type": "markdown",
   "metadata": {},
   "source": [
    "## test / train --> data / label"
   ]
  },
  {
   "cell_type": "code",
   "execution_count": 8,
   "metadata": {},
   "outputs": [],
   "source": [
    "train_label = train_data[\"Diagnosis\"]\n",
    "\n",
    "del train_data[\"Diagnosis\"]\n",
    "\n",
    "test_label = test_data[\"Diagnosis\"]\n",
    "\n",
    "del test_data[\"Diagnosis\"]\n",
    "\n",
    "test_label = list(test_label)\n",
    "\n",
    "train_label = list(train_label)"
   ]
  },
  {
   "cell_type": "markdown",
   "metadata": {},
   "source": [
    "# Normalization"
   ]
  },
  {
   "cell_type": "code",
   "execution_count": 9,
   "metadata": {},
   "outputs": [
    {
     "data": {
      "text/plain": [
       "1       3.526356\n",
       "2       4.178355\n",
       "3      24.331985\n",
       "4     354.946645\n",
       "5       0.013686\n",
       "6       0.053820\n",
       "7       0.081182\n",
       "8       0.039311\n",
       "9       0.027986\n",
       "10      0.006959\n",
       "11      0.287193\n",
       "12      0.530302\n",
       "13      2.095255\n",
       "14     47.802886\n",
       "15      0.002960\n",
       "16      0.018690\n",
       "17      0.031822\n",
       "18      0.006241\n",
       "19      0.008642\n",
       "20      0.002767\n",
       "21      4.885614\n",
       "22      6.109281\n",
       "23     33.896389\n",
       "24    581.650616\n",
       "25      0.022810\n",
       "26      0.162050\n",
       "27      0.212075\n",
       "28      0.066786\n",
       "29      0.064040\n",
       "30      0.018436\n",
       "dtype: float64"
      ]
     },
     "execution_count": 9,
     "metadata": {},
     "output_type": "execute_result"
    }
   ],
   "source": [
    "train_data.std()"
   ]
  },
  {
   "cell_type": "code",
   "execution_count": 10,
   "metadata": {},
   "outputs": [
    {
     "data": {
      "text/plain": [
       "1       28.11000\n",
       "2       39.28000\n",
       "3      188.50000\n",
       "4     2501.00000\n",
       "5        0.14470\n",
       "6        0.34540\n",
       "7        0.42680\n",
       "8        0.20120\n",
       "9        0.30400\n",
       "10       0.09744\n",
       "11       2.87300\n",
       "12       4.88500\n",
       "13      21.98000\n",
       "14     542.20000\n",
       "15       0.03113\n",
       "16       0.13540\n",
       "17       0.39600\n",
       "18       0.05279\n",
       "19       0.07895\n",
       "20       0.02984\n",
       "21      36.04000\n",
       "22      49.54000\n",
       "23     251.20000\n",
       "24    4254.00000\n",
       "25       0.22260\n",
       "26       1.05800\n",
       "27       1.25200\n",
       "28       0.29100\n",
       "29       0.66380\n",
       "30       0.20750\n",
       "dtype: float64"
      ]
     },
     "execution_count": 10,
     "metadata": {},
     "output_type": "execute_result"
    }
   ],
   "source": [
    "train_data.max()"
   ]
  },
  {
   "cell_type": "code",
   "execution_count": 11,
   "metadata": {},
   "outputs": [],
   "source": [
    "def Normalization(col_data,std,mean):\n",
    "    col_data -= mean\n",
    "    col_data /= std\n",
    "    return col_data"
   ]
  },
  {
   "cell_type": "code",
   "execution_count": 12,
   "metadata": {},
   "outputs": [],
   "source": [
    "# 수정 전\n",
    "# for i in range(1,30):\n",
    "#     col_data = train_data[i]\n",
    "#     mean = train_data[i].mean()\n",
    "# #     print(mean)\n",
    "    \n",
    "#     std = train_data[i].std()\n",
    "# #     print(std)\n",
    "#     train_data[i] = Normalization(col_data,std,mean)\n",
    "\n",
    "# for i in range(1,30):\n",
    "#     col_data = test_data[i]\n",
    "#     mean = test_data[i].mean()\n",
    "# #     print(mean)\n",
    "    \n",
    "#     std = test_data[i].std()\n",
    "# #     print(std)\n",
    "#     test_data[i] = Normalization(col_data,std,mean)"
   ]
  },
  {
   "cell_type": "code",
   "execution_count": 13,
   "metadata": {},
   "outputs": [
    {
     "name": "stderr",
     "output_type": "stream",
     "text": [
      "C:\\Users\\Owner\\Anaconda3\\envs\\keras_gpu\\lib\\site-packages\\ipykernel_launcher.py:10: SettingWithCopyWarning: \n",
      "A value is trying to be set on a copy of a slice from a DataFrame.\n",
      "Try using .loc[row_indexer,col_indexer] = value instead\n",
      "\n",
      "See the caveats in the documentation: http://pandas.pydata.org/pandas-docs/stable/user_guide/indexing.html#returning-a-view-versus-a-copy\n",
      "  # Remove the CWD from sys.path while we load stuff.\n",
      "C:\\Users\\Owner\\Anaconda3\\envs\\keras_gpu\\lib\\site-packages\\ipykernel_launcher.py:16: SettingWithCopyWarning: \n",
      "A value is trying to be set on a copy of a slice from a DataFrame.\n",
      "Try using .loc[row_indexer,col_indexer] = value instead\n",
      "\n",
      "See the caveats in the documentation: http://pandas.pydata.org/pandas-docs/stable/user_guide/indexing.html#returning-a-view-versus-a-copy\n",
      "  app.launch_new_instance()\n"
     ]
    }
   ],
   "source": [
    "# 수정 후\n",
    "mean_list = []\n",
    "std_list = []\n",
    "for i in range(1,30):\n",
    "    col_data = train_data[i]\n",
    "    mean = train_data[i].mean()\n",
    "    mean_list.append(mean)\n",
    "    std = train_data[i].std()\n",
    "    std_list.append(std)\n",
    "    train_data[i] = Normalization(col_data,std,mean)\n",
    "\n",
    "for i in range(1,30):\n",
    "    col_data = test_data[i]\n",
    "    mean = mean_list[i-1]\n",
    "    std = std_list[i-1]\n",
    "    test_data[i] = Normalization(col_data,std,mean)"
   ]
  },
  {
   "cell_type": "code",
   "execution_count": 19,
   "metadata": {},
   "outputs": [
    {
     "data": {
      "text/plain": [
       "1     2.948309\n",
       "2     2.746758\n",
       "3     2.992396\n",
       "4     3.313737\n",
       "5     4.911078\n",
       "6     3.203588\n",
       "7     3.205710\n",
       "8     2.593177\n",
       "9     2.068369\n",
       "10    4.768934\n",
       "11    3.051674\n",
       "12    5.077682\n",
       "13    3.201810\n",
       "14    2.895238\n",
       "15    4.992035\n",
       "16    2.614754\n",
       "17    2.481019\n",
       "18    2.664660\n",
       "19    2.214997\n",
       "20    2.773552\n",
       "21    2.934153\n",
       "22    2.817497\n",
       "23    3.038894\n",
       "24    3.232791\n",
       "25    2.989190\n",
       "26    3.767695\n",
       "27    4.205077\n",
       "28    2.218832\n",
       "29    2.727068\n",
       "30    0.140900\n",
       "dtype: float64"
      ]
     },
     "execution_count": 19,
     "metadata": {},
     "output_type": "execute_result"
    }
   ],
   "source": [
    "len(train_data[1])\n",
    "test_data.max()"
   ]
  },
  {
   "cell_type": "code",
   "execution_count": 17,
   "metadata": {},
   "outputs": [
    {
     "data": {
      "text/plain": [
       "1    -2.056574\n",
       "2    -2.257604\n",
       "3    -2.009662\n",
       "4    -1.468671\n",
       "5    -2.460530\n",
       "6    -1.583122\n",
       "7    -1.122861\n",
       "8    -1.273397\n",
       "9    -2.326627\n",
       "10   -1.811296\n",
       "11   -1.055314\n",
       "12   -1.589840\n",
       "13   -1.035383\n",
       "14   -0.732117\n",
       "15   -1.784270\n",
       "16   -1.262016\n",
       "17   -1.019700\n",
       "18   -1.907072\n",
       "19   -1.498214\n",
       "20   -1.051396\n",
       "21   -1.744890\n",
       "22   -2.219103\n",
       "23   -1.713529\n",
       "24   -1.231745\n",
       "25   -2.685103\n",
       "26   -1.420890\n",
       "27   -1.311844\n",
       "28   -1.749083\n",
       "29   -2.132391\n",
       "30    0.055040\n",
       "dtype: float64"
      ]
     },
     "execution_count": 17,
     "metadata": {},
     "output_type": "execute_result"
    }
   ],
   "source": [
    "train_data.min()"
   ]
  },
  {
   "cell_type": "code",
   "execution_count": 11,
   "metadata": {},
   "outputs": [
    {
     "data": {
      "text/plain": [
       "0.2930584221748401"
      ]
     },
     "execution_count": 11,
     "metadata": {},
     "output_type": "execute_result"
    }
   ],
   "source": [
    "mean"
   ]
  },
  {
   "cell_type": "markdown",
   "metadata": {},
   "source": [
    "## M == 1 : B == 0"
   ]
  },
  {
   "cell_type": "code",
   "execution_count": 21,
   "metadata": {},
   "outputs": [],
   "source": [
    "for i in range(len(test_label)):\n",
    "    if test_label[i] == \"M\":\n",
    "        test_label[i] = 1\n",
    "    else:\n",
    "        test_label[i] = 0\n"
   ]
  },
  {
   "cell_type": "code",
   "execution_count": 22,
   "metadata": {},
   "outputs": [],
   "source": [
    "for i in range(len(train_label)):\n",
    "    if train_label[i] == \"M\":\n",
    "        train_label[i] = 1\n",
    "    else:\n",
    "        train_label[i] = 0"
   ]
  },
  {
   "cell_type": "code",
   "execution_count": 27,
   "metadata": {},
   "outputs": [],
   "source": [
    "slice_train_data = train_data[:400]\n",
    "slice_train_label = train_label[:400]\n",
    "val_data = train_data[400:]\n",
    "val_label = train_label[400:]"
   ]
  },
  {
   "cell_type": "code",
   "execution_count": 41,
   "metadata": {},
   "outputs": [
    {
     "name": "stdout",
     "output_type": "stream",
     "text": [
      "Train on 400 samples, validate on 69 samples\n",
      "Epoch 1/50\n",
      "400/400 [==============================] - 1s 2ms/step - loss: 0.3417 - acc: 0.9325 - val_loss: 0.2222 - val_acc: 0.9710\n",
      "Epoch 2/50\n",
      "400/400 [==============================] - 0s 413us/step - loss: 0.1532 - acc: 0.9675 - val_loss: 0.1239 - val_acc: 0.9710\n",
      "Epoch 3/50\n",
      "400/400 [==============================] - 0s 371us/step - loss: 0.0994 - acc: 0.9700 - val_loss: 0.0827 - val_acc: 1.0000\n",
      "Epoch 4/50\n",
      "400/400 [==============================] - 0s 388us/step - loss: 0.0791 - acc: 0.9775 - val_loss: 0.0702 - val_acc: 0.9855\n",
      "Epoch 5/50\n",
      "400/400 [==============================] - 0s 388us/step - loss: 0.0680 - acc: 0.9775 - val_loss: 0.0631 - val_acc: 0.9855\n",
      "Epoch 6/50\n",
      "400/400 [==============================] - 0s 384us/step - loss: 0.0624 - acc: 0.9775 - val_loss: 0.0563 - val_acc: 0.9855\n",
      "Epoch 7/50\n",
      "400/400 [==============================] - 0s 380us/step - loss: 0.0577 - acc: 0.9775 - val_loss: 0.0522 - val_acc: 0.9710\n",
      "Epoch 8/50\n",
      "400/400 [==============================] - 0s 380us/step - loss: 0.0555 - acc: 0.9775 - val_loss: 0.0518 - val_acc: 0.9710\n",
      "Epoch 9/50\n",
      "400/400 [==============================] - 0s 380us/step - loss: 0.0515 - acc: 0.9825 - val_loss: 0.0518 - val_acc: 0.9710\n",
      "Epoch 10/50\n",
      "400/400 [==============================] - 0s 390us/step - loss: 0.0492 - acc: 0.9825 - val_loss: 0.0493 - val_acc: 0.9710\n",
      "Epoch 11/50\n",
      "400/400 [==============================] - 0s 387us/step - loss: 0.0469 - acc: 0.9850 - val_loss: 0.0540 - val_acc: 0.9710\n",
      "Epoch 12/50\n",
      "400/400 [==============================] - 0s 384us/step - loss: 0.0435 - acc: 0.9825 - val_loss: 0.0485 - val_acc: 0.9710\n",
      "Epoch 13/50\n",
      "400/400 [==============================] - 0s 383us/step - loss: 0.0427 - acc: 0.9850 - val_loss: 0.0461 - val_acc: 0.9710\n",
      "Epoch 14/50\n",
      "400/400 [==============================] - 0s 395us/step - loss: 0.0395 - acc: 0.9875 - val_loss: 0.0398 - val_acc: 0.9855\n",
      "Epoch 15/50\n",
      "400/400 [==============================] - 0s 400us/step - loss: 0.0366 - acc: 0.9875 - val_loss: 0.0388 - val_acc: 0.9855\n",
      "Epoch 16/50\n",
      "400/400 [==============================] - 0s 385us/step - loss: 0.0352 - acc: 0.9900 - val_loss: 0.0424 - val_acc: 0.9710\n",
      "Epoch 17/50\n",
      "400/400 [==============================] - 0s 388us/step - loss: 0.0328 - acc: 0.9900 - val_loss: 0.0441 - val_acc: 0.9710\n",
      "Epoch 18/50\n",
      "400/400 [==============================] - 0s 383us/step - loss: 0.0296 - acc: 0.9900 - val_loss: 0.0360 - val_acc: 0.9855\n",
      "Epoch 19/50\n",
      "400/400 [==============================] - 0s 384us/step - loss: 0.0283 - acc: 0.9900 - val_loss: 0.0423 - val_acc: 0.9710\n",
      "Epoch 20/50\n",
      "400/400 [==============================] - 0s 393us/step - loss: 0.0283 - acc: 0.9900 - val_loss: 0.0419 - val_acc: 0.9710\n",
      "Epoch 21/50\n",
      "400/400 [==============================] - 0s 388us/step - loss: 0.0241 - acc: 0.9925 - val_loss: 0.0347 - val_acc: 0.9855\n",
      "Epoch 22/50\n",
      "400/400 [==============================] - 0s 383us/step - loss: 0.0231 - acc: 0.9925 - val_loss: 0.0306 - val_acc: 0.9855\n",
      "Epoch 23/50\n",
      "400/400 [==============================] - 0s 381us/step - loss: 0.0216 - acc: 0.9925 - val_loss: 0.0279 - val_acc: 0.9855\n",
      "Epoch 24/50\n",
      "400/400 [==============================] - 0s 394us/step - loss: 0.0210 - acc: 0.9925 - val_loss: 0.0324 - val_acc: 0.9855\n",
      "Epoch 25/50\n",
      "400/400 [==============================] - 0s 395us/step - loss: 0.0185 - acc: 0.9950 - val_loss: 0.0298 - val_acc: 1.0000\n",
      "Epoch 26/50\n",
      "400/400 [==============================] - 0s 380us/step - loss: 0.0169 - acc: 0.9950 - val_loss: 0.0299 - val_acc: 1.0000\n",
      "Epoch 27/50\n",
      "400/400 [==============================] - 0s 385us/step - loss: 0.0168 - acc: 0.9950 - val_loss: 0.0352 - val_acc: 1.0000\n",
      "Epoch 28/50\n",
      "400/400 [==============================] - 0s 395us/step - loss: 0.0139 - acc: 0.9975 - val_loss: 0.0486 - val_acc: 0.9710\n",
      "Epoch 29/50\n",
      "400/400 [==============================] - 0s 393us/step - loss: 0.0131 - acc: 0.9950 - val_loss: 0.0337 - val_acc: 1.0000\n",
      "Epoch 30/50\n",
      "400/400 [==============================] - 0s 380us/step - loss: 0.0135 - acc: 0.9950 - val_loss: 0.0266 - val_acc: 1.0000\n",
      "Epoch 31/50\n",
      "400/400 [==============================] - 0s 395us/step - loss: 0.0107 - acc: 0.9950 - val_loss: 0.0318 - val_acc: 0.9855\n",
      "Epoch 32/50\n",
      "400/400 [==============================] - 0s 395us/step - loss: 0.0095 - acc: 0.9975 - val_loss: 0.0279 - val_acc: 1.0000\n",
      "Epoch 33/50\n",
      "400/400 [==============================] - 0s 390us/step - loss: 0.0086 - acc: 0.9975 - val_loss: 0.0332 - val_acc: 1.0000\n",
      "Epoch 34/50\n",
      "400/400 [==============================] - 0s 379us/step - loss: 0.0084 - acc: 0.9950 - val_loss: 0.0343 - val_acc: 1.0000\n",
      "Epoch 35/50\n",
      "400/400 [==============================] - 0s 383us/step - loss: 0.0069 - acc: 1.0000 - val_loss: 0.0319 - val_acc: 1.0000\n",
      "Epoch 36/50\n",
      "400/400 [==============================] - 0s 376us/step - loss: 0.0064 - acc: 0.9975 - val_loss: 0.0324 - val_acc: 0.9855\n",
      "Epoch 37/50\n",
      "400/400 [==============================] - 0s 375us/step - loss: 0.0059 - acc: 1.0000 - val_loss: 0.0317 - val_acc: 1.0000\n",
      "Epoch 38/50\n",
      "400/400 [==============================] - 0s 380us/step - loss: 0.0052 - acc: 1.0000 - val_loss: 0.0389 - val_acc: 0.9855\n",
      "Epoch 39/50\n",
      "400/400 [==============================] - 0s 383us/step - loss: 0.0042 - acc: 1.0000 - val_loss: 0.0168 - val_acc: 1.0000\n",
      "Epoch 40/50\n",
      "400/400 [==============================] - 0s 395us/step - loss: 0.0046 - acc: 1.0000 - val_loss: 0.0171 - val_acc: 1.0000\n",
      "Epoch 41/50\n",
      "400/400 [==============================] - 0s 385us/step - loss: 0.0038 - acc: 1.0000 - val_loss: 0.0182 - val_acc: 1.0000\n",
      "Epoch 42/50\n",
      "400/400 [==============================] - 0s 380us/step - loss: 0.0036 - acc: 1.0000 - val_loss: 0.0157 - val_acc: 1.0000\n",
      "Epoch 43/50\n",
      "400/400 [==============================] - 0s 385us/step - loss: 0.0031 - acc: 1.0000 - val_loss: 0.0218 - val_acc: 1.0000\n",
      "Epoch 44/50\n",
      "400/400 [==============================] - 0s 383us/step - loss: 0.0035 - acc: 1.0000 - val_loss: 0.0292 - val_acc: 1.0000\n",
      "Epoch 45/50\n",
      "400/400 [==============================] - 0s 380us/step - loss: 0.0023 - acc: 1.0000 - val_loss: 0.0522 - val_acc: 0.9565\n",
      "Epoch 46/50\n",
      "400/400 [==============================] - 0s 378us/step - loss: 0.0024 - acc: 1.0000 - val_loss: 0.0389 - val_acc: 1.0000\n",
      "Epoch 47/50\n",
      "400/400 [==============================] - 0s 383us/step - loss: 0.0020 - acc: 1.0000 - val_loss: 0.0367 - val_acc: 1.0000\n",
      "Epoch 48/50\n",
      "400/400 [==============================] - 0s 379us/step - loss: 0.0013 - acc: 1.0000 - val_loss: 0.0108 - val_acc: 1.0000\n",
      "Epoch 49/50\n",
      "400/400 [==============================] - 0s 388us/step - loss: 0.0026 - acc: 1.0000 - val_loss: 0.0259 - val_acc: 1.0000\n",
      "Epoch 50/50\n",
      "400/400 [==============================] - 0s 385us/step - loss: 0.0016 - acc: 1.0000 - val_loss: 0.0252 - val_acc: 1.0000\n"
     ]
    }
   ],
   "source": [
    "#best\n",
    "network_com = keras.models.Sequential()\n",
    "network_com.add(layers.Dense(30, activation='relu', input_shape=(30,)))\n",
    "network_com.add(layers.Dense(16, activation='relu'))\n",
    "network_com.add(layers.Dense(1, activation='sigmoid'))\n",
    "\n",
    "network_com.compile(optimizer=\"rmsprop\",\n",
    "               loss=\"binary_crossentropy\",\n",
    "               metrics=[\"acc\"])\n",
    "\n",
    "history= network_com.fit(slice_train_data,slice_train_label,batch_size=8,epochs=50,validation_data=(val_data,val_label))\n",
    "\n",
    "# network_com.evaluate(test_data,test_label)"
   ]
  },
  {
   "cell_type": "code",
   "execution_count": 42,
   "metadata": {},
   "outputs": [
    {
     "name": "stdout",
     "output_type": "stream",
     "text": [
      "100/100 [==============================] - 0s 210us/step\n"
     ]
    },
    {
     "data": {
      "text/plain": [
       "[0.12383312146527999, 0.97]"
      ]
     },
     "execution_count": 42,
     "metadata": {},
     "output_type": "execute_result"
    }
   ],
   "source": [
    "network_com.evaluate(test_data,test_label)"
   ]
  },
  {
   "cell_type": "code",
   "execution_count": 43,
   "metadata": {},
   "outputs": [
    {
     "data": {
      "image/png": "[encoded data removed]",
      "text/plain": [
       "<Figure size 432x288 with 1 Axes>"
      ]
     },
     "metadata": {
      "needs_background": "light"
     },
     "output_type": "display_data"
    },
    {
     "data": {
      "image/png": "[encoded data removed]",
      "text/plain": [
       "<Figure size 432x288 with 1 Axes>"
      ]
     },
     "metadata": {
      "needs_background": "light"
     },
     "output_type": "display_data"
    }
   ],
   "source": [
    "import matplotlib.pyplot as plt\n",
    "\n",
    "# history_dict = history.history\n",
    "# history_dict\n",
    "\n",
    "plt.title(\"acc\")\n",
    "plt.plot(history.history[\"acc\"], 'b', label= \"train acc\")\n",
    "plt.plot(history.history[\"val_acc\"], 'g', label= \"val acc\")\n",
    "plt.legend()\n",
    "plt.show()\n",
    "\n",
    "plt.title(\"loss\")\n",
    "plt.plot(history.history[\"loss\"], 'b', label= \"train loss\")\n",
    "plt.plot(history.history[\"val_loss\"], 'bo', label= \"val loss\")\n",
    "plt.legend()\n",
    "plt.show()"
   ]
  }
 ],
 "metadata": {
  "kernelspec": {
   "display_name": "Python 3",
   "language": "python",
   "name": "python3"
  },
  "language_info": {
   "codemirror_mode": {
    "name": "ipython",
    "version": 3
   },
   "file_extension": ".py",
   "mimetype": "text/x-python",
   "name": "python",
   "nbconvert_exporter": "python",
   "pygments_lexer": "ipython3",
   "version": "3.7.4"
  }
 },
 "nbformat": 4,
 "nbformat_minor": 4
}
