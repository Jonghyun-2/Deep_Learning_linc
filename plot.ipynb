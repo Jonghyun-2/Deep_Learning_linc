{
 "cells": [
  {
   "cell_type": "code",
   "execution_count": null,
   "metadata": {},
   "outputs": [],
   "source": [
    "import matplotlib.pyplot as plt\n",
    "\n",
    "# history_dict = history.history\n",
    "# history_dict\n",
    "\n",
    "plt.title(\"acc\")\n",
    "plt.plot(history.history[\"acc\"], 'b', label= \"train acc\")\n",
    "plt.plot(history.history[\"val_acc\"], 'g', label= \"val acc\")\n",
    "plt.legend()\n",
    "plt.show()\n",
    "\n",
    "plt.title(\"loss\")\n",
    "plt.plot(history.history[\"loss\"], 'b', label= \"train loss\")\n",
    "plt.plot(history.history[\"val_loss\"], 'bo', label= \"val loss\")\n",
    "plt.legend()\n",
    "plt.show()"
   ]
  }
 ],
 "metadata": {
  "kernelspec": {
   "display_name": "Python 3",
   "language": "python",
   "name": "python3"
  },
  "language_info": {
   "codemirror_mode": {
    "name": "ipython",
    "version": 3
   },
   "file_extension": ".py",
   "mimetype": "text/x-python",
   "name": "python",
   "nbconvert_exporter": "python",
   "pygments_lexer": "ipython3",
   "version": "3.7.4"
  }
 },
 "nbformat": 4,
 "nbformat_minor": 4
}
