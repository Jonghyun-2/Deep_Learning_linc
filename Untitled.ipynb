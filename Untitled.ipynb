{
 "cells": [
  {
   "cell_type": "code",
   "execution_count": null,
   "metadata": {},
   "outputs": [],
   "source": [
    "import matplotlib.pyplot as plt\n",
    "import glob\n",
    "import numpy as np\n",
    "import cv2"
   ]
  },
  {
   "cell_type": "code",
   "execution_count": null,
   "metadata": {},
   "outputs": [],
   "source": [
    "basic_path = glob.glob(\"C:\\\\Users\\\\Owner\\\\Desktop\\\\Deep_learning\\\\Dataset\\\\*\",recursive=False)"
   ]
  },
  {
   "cell_type": "code",
   "execution_count": null,
   "metadata": {},
   "outputs": [],
   "source": [
    "dyed_lifted_polyps_path = glob.glob(basic_path[0] + '\\\\*.jpg')\n",
    "\n",
    "dyed_resection_margins_path = glob.glob(basic_path[1] + '\\\\*.jpg')\n",
    "\n",
    "esophagitis_path =glob.glob(basic_path[2] + '\\\\*.jpg')\n",
    "\n",
    "normal_cecum_path = glob.glob(basic_path[3] + '\\\\*.jpg')\n",
    "\n",
    "normal_pylorus_path = glob.glob(basic_path[4] + '\\\\*.jpg')\n",
    "\n",
    "normal_z_line_path = glob.glob(basic_path[5]+ '\\\\*.jpg')\n",
    "\n",
    "polyps_path = glob.glob(basic_path[6]+ '\\\\*.jpg')\n",
    "\n",
    "ulcerative_colitis_path= glob.glob(basic_path[7]+ '\\\\*.jpg')"
   ]
  },
  {
   "cell_type": "code",
   "execution_count": null,
   "metadata": {},
   "outputs": [],
   "source": [
    "dyed_lifted_polyps_imgs = data_stack(dyed_lifted_polyps_path)\n",
    "dyed_resection_margins_imgs = data_stack(dyed_resection_margins_path)\n",
    "esophagitis_imgs = data_stack(esophagitis_path)\n",
    "normal_cecum_imgs = data_stack(normal_cecum_path)\n",
    "normal_pylorus_imgs = data_stack(normal_pylorus_path)\n",
    "normal_z_line_imgs = data_stack(normal_z_line_path)\n",
    "polyps_imgs = data_stack(polyps_path)\n",
    "ulcerative_colitis_imgs = data_stack(ulcerative_colitis_path)"
   ]
  }
 ],
 "metadata": {
  "kernelspec": {
   "display_name": "Python 3",
   "language": "python",
   "name": "python3"
  },
  "language_info": {
   "name": ""
  }
 },
 "nbformat": 4,
 "nbformat_minor": 4
}
