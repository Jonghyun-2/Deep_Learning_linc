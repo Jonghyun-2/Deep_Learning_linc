{
 "cells": [
  {
   "cell_type": "code",
   "execution_count": 1,
   "metadata": {},
   "outputs": [],
   "source": [
    "%%writefile camera.py\n",
    "import time\n",
    "\n",
    "import cv2\n",
    "\n",
    "pic_num = 30\n",
    "root = (\"../face_pic/\")\n",
    "bool_break = 0\n",
    "#웹캠에서 영상을 읽어온다\n",
    "cap = cv2.VideoCapture(0)\n",
    "cap.set(3, 640) #WIDTH\n",
    "cap.set(4, 480) #HEIGHT\n",
    "\n",
    "#얼굴 인식 캐스케이드 파일 읽는다\n",
    "face_cascade = cv2.CascadeClassifier('haarcascade_frontalface_default.xml')\n",
    "i = 0\n",
    "while(True):\n",
    "    # frame 별로 capture 한다\n",
    "    ret, frame = cap.read()\n",
    "    faces = face_cascade.detectMultiScale(frame, 1.3, 5)\n",
    "    frame_c = frame.copy()\n",
    "    # 인식된 얼굴에 사각형을 출력한다\n",
    "    for (x,y,w,h) in faces:\n",
    "        cv2.rectangle(frame,(x-40,y-40),(x+w+40,y+h+40),(255,0,0),2)\n",
    "        # cropping & save\n",
    "        face = frame_c[y-30:y+h+30,x-30:x+w+30]\n",
    "        cv2.imwrite(root+str(i)+\".jpg\",face)\n",
    "        i += 1\n",
    "        time.sleep(0.5)\n",
    "        if i == pic_num:\n",
    "            bool_break = 1\n",
    "            break        \n",
    "    cv2.imshow('frame',frame)\n",
    "    if bool_break == 1:\n",
    "        break\n",
    "    \n",
    "    if cv2.waitKey(100) & 0xFF == ord('q'):               \n",
    "        break\n",
    "    \n",
    "cap.release()\n",
    "cv2.destroyAllWindows()\n"
   ]
  },
  {
   "cell_type": "code",
   "execution_count": 2,
   "metadata": {},
   "outputs": [],
   "source": [
    "from keras import models\n",
    "from keras import layers\n",
    "from keras.applications import VGG16"
   ]
  },
  {
   "cell_type": "code",
   "execution_count": null,
   "metadata": {},
   "outputs": [],
   "source": []
  },
  {
   "cell_type": "code",
   "execution_count": 7,
   "metadata": {
    "collapsed": true,
    "jupyter": {
     "outputs_hidden": true
    }
   },
   "outputs": [
    {
     "name": "stdout",
     "output_type": "stream",
     "text": [
      "Model: \"sequential_3\"\n",
      "_________________________________________________________________\n",
      "Layer (type)                 Output Shape              Param #   \n",
      "=================================================================\n",
      "conv2d_7 (Conv2D)            (None, 198, 198, 16)      448       \n",
      "_________________________________________________________________\n",
      "max_pooling2d_7 (MaxPooling2 (None, 99, 99, 16)        0         \n",
      "_________________________________________________________________\n",
      "conv2d_8 (Conv2D)            (None, 97, 97, 32)        4640      \n",
      "_________________________________________________________________\n",
      "max_pooling2d_8 (MaxPooling2 (None, 48, 48, 32)        0         \n",
      "_________________________________________________________________\n",
      "conv2d_9 (Conv2D)            (None, 46, 46, 64)        18496     \n",
      "_________________________________________________________________\n",
      "max_pooling2d_9 (MaxPooling2 (None, 23, 23, 64)        0         \n",
      "_________________________________________________________________\n",
      "flatten_3 (Flatten)          (None, 33856)             0         \n",
      "_________________________________________________________________\n",
      "dense_5 (Dense)              (None, 64)                2166848   \n",
      "_________________________________________________________________\n",
      "dense_6 (Dense)              (None, 32)                2080      \n",
      "_________________________________________________________________\n",
      "dense_7 (Dense)              (None, 2)                 66        \n",
      "=================================================================\n",
      "Total params: 2,192,578\n",
      "Trainable params: 2,192,578\n",
      "Non-trainable params: 0\n",
      "_________________________________________________________________\n"
     ]
    }
   ],
   "source": [
    "# conv_base = VGG16(weights = 'imagenet',\n",
    "#                  include_top = False,\n",
    "#                  input_shape =(200,200,3))\n",
    "face_recogn = models.Sequential()\n",
    "face_recogn.add(layers.Conv2D(16,(3,3),activation='relu',input_shape=(200,200,3)))\n",
    "face_recogn.add(layers.MaxPooling2D((2,2)))\n",
    "face_recogn.add(layers.Conv2D(32,(3,3),activation='relu'))\n",
    "face_recogn.add(layers.MaxPooling2D((2,2)))                \n",
    "face_recogn.add(layers.Conv2D(64,(3,3),activation='relu'))\n",
    "face_recogn.add(layers.MaxPooling2D((2,2)))                \n",
    "# face_recogn.add(conv_base)\n",
    "face_recogn.add(layers.Flatten())\n",
    "face_recogn.add(layers.Dense(64,activation='relu'))\n",
    "face_recogn.add(layers.Dense(32,activation='relu'))\n",
    "face_recogn.add(layers.Dense(2,activation='softmax'))\n",
    "\n",
    "face_recogn.summary()"
   ]
  },
  {
   "cell_type": "code",
   "execution_count": null,
   "metadata": {},
   "outputs": [],
   "source": []
  },
  {
   "cell_type": "code",
   "execution_count": null,
   "metadata": {},
   "outputs": [],
   "source": []
  },
  {
   "cell_type": "code",
   "execution_count": null,
   "metadata": {},
   "outputs": [],
   "source": []
  },
  {
   "cell_type": "code",
   "execution_count": null,
   "metadata": {},
   "outputs": [],
   "source": []
  },
  {
   "cell_type": "code",
   "execution_count": null,
   "metadata": {},
   "outputs": [],
   "source": []
  },
  {
   "cell_type": "code",
   "execution_count": null,
   "metadata": {},
   "outputs": [],
   "source": []
  },
  {
   "cell_type": "code",
   "execution_count": null,
   "metadata": {},
   "outputs": [],
   "source": []
  },
  {
   "cell_type": "code",
   "execution_count": null,
   "metadata": {},
   "outputs": [],
   "source": []
  },
  {
   "cell_type": "code",
   "execution_count": null,
   "metadata": {},
   "outputs": [],
   "source": []
  },
  {
   "cell_type": "code",
   "execution_count": null,
   "metadata": {},
   "outputs": [],
   "source": []
  },
  {
   "cell_type": "code",
   "execution_count": null,
   "metadata": {},
   "outputs": [],
   "source": []
  },
  {
   "cell_type": "code",
   "execution_count": null,
   "metadata": {},
   "outputs": [],
   "source": []
  },
  {
   "cell_type": "code",
   "execution_count": null,
   "metadata": {},
   "outputs": [],
   "source": []
  },
  {
   "cell_type": "code",
   "execution_count": null,
   "metadata": {},
   "outputs": [],
   "source": []
  },
  {
   "cell_type": "code",
   "execution_count": null,
   "metadata": {},
   "outputs": [],
   "source": []
  },
  {
   "cell_type": "code",
   "execution_count": null,
   "metadata": {},
   "outputs": [],
   "source": []
  }
 ],
 "metadata": {
  "kernelspec": {
   "display_name": "Python 3",
   "language": "python",
   "name": "python3"
  },
  "language_info": {
   "codemirror_mode": {
    "name": "ipython",
    "version": 3
   },
   "file_extension": ".py",
   "mimetype": "text/x-python",
   "name": "python",
   "nbconvert_exporter": "python",
   "pygments_lexer": "ipython3",
   "version": "3.7.5"
  }
 },
 "nbformat": 4,
 "nbformat_minor": 4
}
