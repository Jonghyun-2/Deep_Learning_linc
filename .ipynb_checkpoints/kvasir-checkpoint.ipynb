{
 "cells": [
  {
   "cell_type": "markdown",
   "metadata": {},
   "source": [
    "# kvasir 8 class classification model\n",
    "\n",
    "* 8 Class\n",
    " 1. dyed-lifted-polyps\n",
    " 2. dyed-resection-margins\n",
    " 3. esophagitis\n",
    " 4. normal-cecum\n",
    " 5. normal-pylorus\n",
    " 6. normal-z-line\n",
    " 7. polyps\n",
    " 8. ulcerative-colitis\n",
    " \n",
    " \n",
    " Total : 8000 dataset<br>\n",
    " Class : 8 classes(Each 1000 images)<br>\n",
    " Train data : 7200 dataset (900 * 8)<br>\n",
    " Test data : 800 dataset (100 * 8)<br>"
   ]
  },
  {
   "cell_type": "markdown",
   "metadata": {},
   "source": [
    "## basic path\n",
    "* C:\\Users\\Owner\\Desktop\\Deep_learning\\Dataset"
   ]
  },
  {
   "cell_type": "code",
   "execution_count": 1,
   "metadata": {},
   "outputs": [],
   "source": [
    "import matplotlib.pyplot as plt\n",
    "import glob"
   ]
  },
  {
   "cell_type": "code",
   "execution_count": 6,
   "metadata": {},
   "outputs": [],
   "source": [
    "basic_path = glob.glob(\"C:\\\\Users\\\\Owner\\\\Desktop\\\\Deep_learning\\\\Dataset\\\\*\",recursive=False)"
   ]
  },
  {
   "cell_type": "code",
   "execution_count": 7,
   "metadata": {},
   "outputs": [
    {
     "data": {
      "text/plain": [
       "['C:\\\\Users\\\\Owner\\\\Desktop\\\\Deep_learning\\\\Dataset\\\\dyed-lifted-polyps',\n",
       " 'C:\\\\Users\\\\Owner\\\\Desktop\\\\Deep_learning\\\\Dataset\\\\dyed-resection-margins',\n",
       " 'C:\\\\Users\\\\Owner\\\\Desktop\\\\Deep_learning\\\\Dataset\\\\esophagitis',\n",
       " 'C:\\\\Users\\\\Owner\\\\Desktop\\\\Deep_learning\\\\Dataset\\\\normal-cecum',\n",
       " 'C:\\\\Users\\\\Owner\\\\Desktop\\\\Deep_learning\\\\Dataset\\\\normal-pylorus',\n",
       " 'C:\\\\Users\\\\Owner\\\\Desktop\\\\Deep_learning\\\\Dataset\\\\normal-z-line',\n",
       " 'C:\\\\Users\\\\Owner\\\\Desktop\\\\Deep_learning\\\\Dataset\\\\polyps',\n",
       " 'C:\\\\Users\\\\Owner\\\\Desktop\\\\Deep_learning\\\\Dataset\\\\ulcerative-colitis']"
      ]
     },
     "execution_count": 7,
     "metadata": {},
     "output_type": "execute_result"
    }
   ],
   "source": [
    "basic_path"
   ]
  },
  {
   "cell_type": "code",
   "execution_count": 12,
   "metadata": {},
   "outputs": [],
   "source": [
    "dyed_lifted_polyps_path = glob.glob(basic_path[0] + '\\\\*.jpg')\n",
    "\n",
    "dyed_resection_margins_path = glob.glob(basic_path[1] + '\\\\*.jpg')\n",
    "\n",
    "esophagitis_path =glob.glob(basic_path[2] + '\\\\*.jpg')\n",
    "\n",
    "normal_cecum_path = glob.glob(basic_path[3] + '\\\\*.jpg')\n",
    "\n",
    "normal_pylorus_path = glob.glob(basic_path[4] + '\\\\.jpg')\n",
    "\n",
    "normal_z_line_path = glob.glob(basic_path[5]+ '\\\\*.jpg')\n",
    "\n",
    "polyps_path = glob.glob(basic_path[6]+ '\\\\*.jpg')\n",
    "\n",
    "ulcerative_colitis_path= glob.glob(basic_path[7]+ '\\\\*.jpg')"
   ]
  },
  {
   "cell_type": "code",
   "execution_count": null,
   "metadata": {},
   "outputs": [],
   "source": []
  },
  {
   "cell_type": "code",
   "execution_count": null,
   "metadata": {},
   "outputs": [],
   "source": []
  },
  {
   "cell_type": "code",
   "execution_count": null,
   "metadata": {},
   "outputs": [],
   "source": []
  }
 ],
 "metadata": {
  "kernelspec": {
   "display_name": "Python 3",
   "language": "python",
   "name": "python3"
  },
  "language_info": {
   "codemirror_mode": {
    "name": "ipython",
    "version": 3
   },
   "file_extension": ".py",
   "mimetype": "text/x-python",
   "name": "python",
   "nbconvert_exporter": "python",
   "pygments_lexer": "ipython3",
   "version": "3.7.4"
  }
 },
 "nbformat": 4,
 "nbformat_minor": 4
}
