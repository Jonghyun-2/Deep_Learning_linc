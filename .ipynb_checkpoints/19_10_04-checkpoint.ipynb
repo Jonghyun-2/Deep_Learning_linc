{
 "cells": [
  {
   "cell_type": "code",
   "execution_count": 1,
   "metadata": {},
   "outputs": [
    {
     "name": "stderr",
     "output_type": "stream",
     "text": [
      "Using TensorFlow backend.\n"
     ]
    }
   ],
   "source": [
    "import keras\n",
    "import pandas as pd\n",
    "import numpy as np\n",
    "import glob"
   ]
  },
  {
   "cell_type": "markdown",
   "metadata": {},
   "source": [
    "# load data"
   ]
  },
  {
   "cell_type": "code",
   "execution_count": 2,
   "metadata": {},
   "outputs": [],
   "source": [
    "basic_path = glob.glob(\"C:\\\\Users\\\\Owner\\\\Desktop\\\\DataSet\\\\*.data\")"
   ]
  },
  {
   "cell_type": "code",
   "execution_count": 3,
   "metadata": {},
   "outputs": [
    {
     "data": {
      "text/plain": [
       "['C:\\\\Users\\\\Owner\\\\Desktop\\\\DataSet\\\\wdbc.data',\n",
       " 'C:\\\\Users\\\\Owner\\\\Desktop\\\\DataSet\\\\wpbc.data']"
      ]
     },
     "execution_count": 3,
     "metadata": {},
     "output_type": "execute_result"
    }
   ],
   "source": [
    "basic_path"
   ]
  },
  {
   "cell_type": "code",
   "execution_count": 4,
   "metadata": {},
   "outputs": [],
   "source": [
    "wdbc_path = basic_path[0]"
   ]
  },
  {
   "cell_type": "code",
   "execution_count": 5,
   "metadata": {},
   "outputs": [],
   "source": [
    "col_name = [\"Id\",\"Diagnosis\",1,2,3,4,5,6,7,8,9,10,11,12,13,14,15,16,17,18,19,20,21,22,23,24,25,26,27,28,29,30]"
   ]
  },
  {
   "cell_type": "code",
   "execution_count": 6,
   "metadata": {},
   "outputs": [],
   "source": [
    "wdbc_data = pd.read_csv(wdbc_path,names = col_name)"
   ]
  },
  {
   "cell_type": "markdown",
   "metadata": {},
   "source": [
    "# delete Id"
   ]
  },
  {
   "cell_type": "code",
   "execution_count": 7,
   "metadata": {},
   "outputs": [],
   "source": [
    "del wdbc_data[\"Id\"]\n",
    "\n",
    "train_data = wdbc_data.loc[0:468]\n",
    "\n",
    "test_data = wdbc_data.loc[469:]"
   ]
  },
  {
   "cell_type": "markdown",
   "metadata": {},
   "source": [
    "## test / train --> data / label"
   ]
  },
  {
   "cell_type": "code",
   "execution_count": 8,
   "metadata": {},
   "outputs": [],
   "source": [
    "train_label = train_data[\"Diagnosis\"]\n",
    "\n",
    "del train_data[\"Diagnosis\"]\n",
    "\n",
    "test_label = test_data[\"Diagnosis\"]\n",
    "\n",
    "del test_data[\"Diagnosis\"]\n",
    "\n",
    "test_label = list(test_label)\n",
    "\n",
    "train_label = list(train_label)"
   ]
  },
  {
   "cell_type": "markdown",
   "metadata": {},
   "source": [
    "# Normalization"
   ]
  },
  {
   "cell_type": "code",
   "execution_count": 9,
   "metadata": {
    "collapsed": true,
    "jupyter": {
     "outputs_hidden": true
    }
   },
   "outputs": [
    {
     "data": {
      "text/plain": [
       "1       3.526356\n",
       "2       4.178355\n",
       "3      24.331985\n",
       "4     354.946645\n",
       "5       0.013686\n",
       "6       0.053820\n",
       "7       0.081182\n",
       "8       0.039311\n",
       "9       0.027986\n",
       "10      0.006959\n",
       "11      0.287193\n",
       "12      0.530302\n",
       "13      2.095255\n",
       "14     47.802886\n",
       "15      0.002960\n",
       "16      0.018690\n",
       "17      0.031822\n",
       "18      0.006241\n",
       "19      0.008642\n",
       "20      0.002767\n",
       "21      4.885614\n",
       "22      6.109281\n",
       "23     33.896389\n",
       "24    581.650616\n",
       "25      0.022810\n",
       "26      0.162050\n",
       "27      0.212075\n",
       "28      0.066786\n",
       "29      0.064040\n",
       "30      0.018436\n",
       "dtype: float64"
      ]
     },
     "execution_count": 9,
     "metadata": {},
     "output_type": "execute_result"
    }
   ],
   "source": [
    "train_data.std()"
   ]
  },
  {
   "cell_type": "code",
   "execution_count": 10,
   "metadata": {
    "collapsed": true,
    "jupyter": {
     "outputs_hidden": true
    }
   },
   "outputs": [
    {
     "data": {
      "text/plain": [
       "1       28.11000\n",
       "2       39.28000\n",
       "3      188.50000\n",
       "4     2501.00000\n",
       "5        0.14470\n",
       "6        0.34540\n",
       "7        0.42680\n",
       "8        0.20120\n",
       "9        0.30400\n",
       "10       0.09744\n",
       "11       2.87300\n",
       "12       4.88500\n",
       "13      21.98000\n",
       "14     542.20000\n",
       "15       0.03113\n",
       "16       0.13540\n",
       "17       0.39600\n",
       "18       0.05279\n",
       "19       0.07895\n",
       "20       0.02984\n",
       "21      36.04000\n",
       "22      49.54000\n",
       "23     251.20000\n",
       "24    4254.00000\n",
       "25       0.22260\n",
       "26       1.05800\n",
       "27       1.25200\n",
       "28       0.29100\n",
       "29       0.66380\n",
       "30       0.20750\n",
       "dtype: float64"
      ]
     },
     "execution_count": 10,
     "metadata": {},
     "output_type": "execute_result"
    }
   ],
   "source": [
    "train_data.max()"
   ]
  },
  {
   "cell_type": "code",
   "execution_count": 9,
   "metadata": {},
   "outputs": [],
   "source": [
    "def Normalization(col_data,std,mean):\n",
    "    col_data -= mean\n",
    "    col_data /= std\n",
    "    return col_data"
   ]
  },
  {
   "cell_type": "code",
   "execution_count": 10,
   "metadata": {
    "collapsed": true,
    "jupyter": {
     "outputs_hidden": true
    }
   },
   "outputs": [],
   "source": [
    "# 수정 전\n",
    "for i in range(1,30):\n",
    "    col_data = train_data[i]\n",
    "    mean = train_data[i].mean()\n",
    "#     print(mean)\n",
    "    \n",
    "    std = train_data[i].std()\n",
    "#     print(std)\n",
    "    train_data[i] = Normalization(col_data,std,mean)\n",
    "\n",
    "for i in range(1,30):\n",
    "    col_data = test_data[i]\n",
    "    mean = test_data[i].mean()\n",
    "#     print(mean)\n",
    "    \n",
    "    std = test_data[i].std()\n",
    "#     print(std)\n",
    "    test_data[i] = Normalization(col_data,std,mean)"
   ]
  },
  {
   "cell_type": "code",
   "execution_count": null,
   "metadata": {},
   "outputs": [],
   "source": [
    "# 수정 후\n",
    "for i in range(1,30):\n",
    "    col_data = train_data[i]\n",
    "    mean = train_data[i].mean()\n",
    "#     print(mean)\n",
    "    \n",
    "    std = train_data[i].std()\n",
    "#     print(std)\n",
    "    train_data[i] = Normalization(col_data,std,mean)\n",
    "\n",
    "for i in range(1,30):\n",
    "    col_data = test_data[i]\n",
    "#     mean = test_data[i].mean()\n",
    "#     print(mean)\n",
    "    \n",
    "#     std = test_data[i].std()\n",
    "#     print(std)\n",
    "    test_data[i] = Normalization(col_data,std,mean)"
   ]
  },
  {
   "cell_type": "markdown",
   "metadata": {},
   "source": [
    "## M == 1 : B == 0"
   ]
  },
  {
   "cell_type": "code",
   "execution_count": 25,
   "metadata": {},
   "outputs": [
    {
     "data": {
      "text/plain": [
       "[1, 1, 1, 1, 1, 1, 1, 1, 1, 1]"
      ]
     },
     "execution_count": 25,
     "metadata": {},
     "output_type": "execute_result"
    }
   ],
   "source": [
    "train_label[:10]"
   ]
  },
  {
   "cell_type": "code",
   "execution_count": 24,
   "metadata": {},
   "outputs": [],
   "source": [
    "for i in range(len(test_label)):\n",
    "    if test_label[i] == \"M\":\n",
    "        test_label[i] = 1\n",
    "    else:\n",
    "        test_label[i] = 0\n"
   ]
  },
  {
   "cell_type": "code",
   "execution_count": 14,
   "metadata": {},
   "outputs": [],
   "source": [
    "from keras import models\n",
    "from keras import layers\n",
    "\n",
    "network = keras.models.Sequential()\n",
    "network.add(layers.Dense(128, activation='relu', input_shape=(30,)))\n",
    "network.add(layers.Dense(64, activation='relu'))\n",
    "network.add(layers.Dense(1, activation='sigmoid'))\n",
    "\n",
    "network.compile(optimizer=\"rmsprop\",\n",
    "               loss=\"binary_crossentropy\",\n",
    "               metrics=[\"acc\"])\n",
    "\n",
    "network.fit(train_data,train_label,batch_size=8,epochs=10)\n",
    "\n",
    "network.evaluate(test_data,test_label)"
   ]
  },
  {
   "cell_type": "code",
   "execution_count": 93,
   "metadata": {},
   "outputs": [
    {
     "data": {
      "text/plain": [
       "9.468853088487475e-17"
      ]
     },
     "execution_count": 93,
     "metadata": {},
     "output_type": "execute_result"
    }
   ],
   "source": [
    "train_data[3].mean()"
   ]
  },
  {
   "cell_type": "code",
   "execution_count": 86,
   "metadata": {},
   "outputs": [
    {
     "name": "stdout",
     "output_type": "stream",
     "text": [
      "Epoch 1/10\n",
      "469/469 [==============================] - 2s 4ms/step - loss: 0.4964 - acc: 0.7676\n",
      "Epoch 2/10\n",
      "469/469 [==============================] - 0s 390us/step - loss: 0.2000 - acc: 0.9744\n",
      "Epoch 3/10\n",
      "469/469 [==============================] - 0s 390us/step - loss: 0.1105 - acc: 0.9765\n",
      "Epoch 4/10\n",
      "469/469 [==============================] - 0s 392us/step - loss: 0.0829 - acc: 0.9765\n",
      "Epoch 5/10\n",
      "469/469 [==============================] - 0s 396us/step - loss: 0.0707 - acc: 0.9808\n",
      "Epoch 6/10\n",
      "469/469 [==============================] - ETA: 0s - loss: 0.0681 - acc: 0.980 - 0s 399us/step - loss: 0.0632 - acc: 0.9808\n",
      "Epoch 7/10\n",
      "469/469 [==============================] - 0s 390us/step - loss: 0.0621 - acc: 0.9829\n",
      "Epoch 8/10\n",
      "469/469 [==============================] - 0s 392us/step - loss: 0.0572 - acc: 0.9829\n",
      "Epoch 9/10\n",
      "469/469 [==============================] - 0s 399us/step - loss: 0.0536 - acc: 0.9851\n",
      "Epoch 10/10\n",
      "469/469 [==============================] - 0s 390us/step - loss: 0.0498 - acc: 0.9851\n",
      "100/100 [==============================] - 1s 6ms/step\n"
     ]
    },
    {
     "data": {
      "text/plain": [
       "[0.20987374843854922, 0.88]"
      ]
     },
     "execution_count": 86,
     "metadata": {},
     "output_type": "execute_result"
    }
   ],
   "source": [
    "#best\n",
    "network_com = keras.models.Sequential()\n",
    "network_com.add(layers.Dense(30, activation='relu', input_shape=(30,)))\n",
    "network_com.add(layers.Dense(16, activation='relu'))\n",
    "network_com.add(layers.Dense(1, activation='sigmoid'))\n",
    "\n",
    "network_com.compile(optimizer=\"rmsprop\",\n",
    "               loss=\"binary_crossentropy\",\n",
    "               metrics=[\"acc\"])\n",
    "\n",
    "network_com.fit(train_data,train_label,batch_size=8,epochs=10)\n",
    "\n",
    "network_com.evaluate(test_data,test_label)"
   ]
  },
  {
   "cell_type": "code",
   "execution_count": 101,
   "metadata": {},
   "outputs": [],
   "source": [
    "slice_train_data = train_data[:400]\n",
    "slice_train_label = train_label[:400]\n",
    "val_data = train_data[400:]\n",
    "val_label = train_label[400:]"
   ]
  },
  {
   "cell_type": "code",
   "execution_count": 126,
   "metadata": {},
   "outputs": [
    {
     "name": "stdout",
     "output_type": "stream",
     "text": [
      "(400, 30)\n",
      "(69, 30)\n"
     ]
    }
   ],
   "source": [
    "print(slice_train_data.shape)\n",
    "print(val_data.shape)"
   ]
  },
  {
   "cell_type": "code",
   "execution_count": 115,
   "metadata": {},
   "outputs": [
    {
     "name": "stdout",
     "output_type": "stream",
     "text": [
      "Train on 400 samples, validate on 69 samples\n",
      "Epoch 1/10\n",
      "400/400 [==============================] - 2s 6ms/step - loss: 0.6170 - acc: 0.6475 - val_loss: 0.4494 - val_acc: 0.8696\n",
      "Epoch 2/10\n",
      "400/400 [==============================] - 0s 452us/step - loss: 0.2551 - acc: 0.9475 - val_loss: 0.1889 - val_acc: 0.9710\n",
      "Epoch 3/10\n",
      "400/400 [==============================] - 0s 427us/step - loss: 0.1352 - acc: 0.9600 - val_loss: 0.1114 - val_acc: 0.9710\n",
      "Epoch 4/10\n",
      "400/400 [==============================] - 0s 430us/step - loss: 0.0972 - acc: 0.9700 - val_loss: 0.0894 - val_acc: 0.9855\n",
      "Epoch 5/10\n",
      "400/400 [==============================] - 0s 434us/step - loss: 0.0816 - acc: 0.9750 - val_loss: 0.0777 - val_acc: 0.9855\n",
      "Epoch 6/10\n",
      "400/400 [==============================] - 0s 438us/step - loss: 0.0721 - acc: 0.9775 - val_loss: 0.0696 - val_acc: 0.9855\n",
      "Epoch 7/10\n",
      "400/400 [==============================] - 0s 439us/step - loss: 0.0655 - acc: 0.9775 - val_loss: 0.0643 - val_acc: 0.9855\n",
      "Epoch 8/10\n",
      "400/400 [==============================] - 0s 435us/step - loss: 0.0606 - acc: 0.9800 - val_loss: 0.0660 - val_acc: 0.9855\n",
      "Epoch 9/10\n",
      "400/400 [==============================] - 0s 421us/step - loss: 0.0562 - acc: 0.9825 - val_loss: 0.0658 - val_acc: 0.9855\n",
      "Epoch 10/10\n",
      "400/400 [==============================] - 0s 417us/step - loss: 0.0525 - acc: 0.9850 - val_loss: 0.0670 - val_acc: 0.9855\n",
      "100/100 [==============================] - 0s 134us/step\n"
     ]
    },
    {
     "data": {
      "text/plain": [
       "[0.253912038069393, 0.91]"
      ]
     },
     "execution_count": 115,
     "metadata": {},
     "output_type": "execute_result"
    }
   ],
   "source": [
    "#best\n",
    "network_com = keras.models.Sequential()\n",
    "network_com.add(layers.Dense(30, activation='relu', input_shape=(30,)))\n",
    "network_com.add(layers.Dense(16, activation='relu'))\n",
    "network_com.add(layers.Dense(1, activation='sigmoid'))\n",
    "\n",
    "network_com.compile(optimizer=\"rmsprop\",\n",
    "               loss=\"binary_crossentropy\",\n",
    "               metrics=[\"acc\"])\n",
    "\n",
    "history= network_com.fit(slice_train_data,slice_train_label,batch_size=8,epochs=10,validation_data=(val_data,val_label))\n",
    "\n",
    "network_com.evaluate(test_data,test_label)"
   ]
  },
  {
   "cell_type": "code",
   "execution_count": 108,
   "metadata": {},
   "outputs": [],
   "source": [
    "import matplotlib.pyplot as plt"
   ]
  },
  {
   "cell_type": "code",
   "execution_count": 117,
   "metadata": {},
   "outputs": [
    {
     "data": {
      "image/png": "[encoded data removed]",
      "text/plain": [
       "<Figure size 432x288 with 1 Axes>"
      ]
     },
     "metadata": {
      "needs_background": "light"
     },
     "output_type": "display_data"
    }
   ],
   "source": [
    "# history_dict = history.history\n",
    "# history_dict\n",
    "epochs = 10\n",
    "plt.title(\"acc\")\n",
    "plt.plot(history.history[\"acc\"], 'b', label= \"train acc\")\n",
    "plt.plot(history.history[\"val_acc\"], 'bo', label= \"val acc\")\n",
    "plt.legend()\n",
    "plt.show()"
   ]
  },
  {
   "cell_type": "code",
   "execution_count": null,
   "metadata": {},
   "outputs": [],
   "source": []
  },
  {
   "cell_type": "code",
   "execution_count": 121,
   "metadata": {},
   "outputs": [
    {
     "name": "stdout",
     "output_type": "stream",
     "text": [
      "Train on 400 samples, validate on 69 samples\n",
      "Epoch 1/50\n",
      "400/400 [==============================] - 2s 6ms/step - loss: 0.4426 - acc: 0.8175 - val_loss: 0.2125 - val_acc: 0.9710\n",
      "Epoch 2/50\n",
      "400/400 [==============================] - 0s 448us/step - loss: 0.1966 - acc: 0.9550 - val_loss: 0.1207 - val_acc: 0.9565\n",
      "Epoch 3/50\n",
      "400/400 [==============================] - 0s 442us/step - loss: 0.1250 - acc: 0.9650 - val_loss: 0.0885 - val_acc: 0.9855\n",
      "Epoch 4/50\n",
      "400/400 [==============================] - 0s 443us/step - loss: 0.0939 - acc: 0.9725 - val_loss: 0.0749 - val_acc: 0.9855\n",
      "Epoch 5/50\n",
      "400/400 [==============================] - 0s 445us/step - loss: 0.0794 - acc: 0.9775 - val_loss: 0.0682 - val_acc: 0.9710\n",
      "Epoch 6/50\n",
      "400/400 [==============================] - 0s 439us/step - loss: 0.0682 - acc: 0.9725 - val_loss: 0.0582 - val_acc: 0.9710\n",
      "Epoch 7/50\n",
      "400/400 [==============================] - 0s 438us/step - loss: 0.0633 - acc: 0.9800 - val_loss: 0.0589 - val_acc: 0.9710\n",
      "Epoch 8/50\n",
      "400/400 [==============================] - 0s 458us/step - loss: 0.0574 - acc: 0.9825 - val_loss: 0.0567 - val_acc: 0.9710\n",
      "Epoch 9/50\n",
      "400/400 [==============================] - 0s 445us/step - loss: 0.0526 - acc: 0.9825 - val_loss: 0.0511 - val_acc: 0.9710\n",
      "Epoch 10/50\n",
      "400/400 [==============================] - 0s 448us/step - loss: 0.0533 - acc: 0.9850 - val_loss: 0.0538 - val_acc: 0.9710\n",
      "Epoch 11/50\n",
      "400/400 [==============================] - 0s 453us/step - loss: 0.0480 - acc: 0.9875 - val_loss: 0.0516 - val_acc: 0.9710\n",
      "Epoch 12/50\n",
      "400/400 [==============================] - 0s 437us/step - loss: 0.0461 - acc: 0.9875 - val_loss: 0.0505 - val_acc: 0.9710\n",
      "Epoch 13/50\n",
      "400/400 [==============================] - 0s 450us/step - loss: 0.0432 - acc: 0.9850 - val_loss: 0.0470 - val_acc: 0.9710\n",
      "Epoch 14/50\n",
      "400/400 [==============================] - 0s 440us/step - loss: 0.0421 - acc: 0.9850 - val_loss: 0.0568 - val_acc: 0.9710\n",
      "Epoch 15/50\n",
      "400/400 [==============================] - 0s 448us/step - loss: 0.0383 - acc: 0.9850 - val_loss: 0.0484 - val_acc: 0.9710\n",
      "Epoch 16/50\n",
      "400/400 [==============================] - 0s 440us/step - loss: 0.0385 - acc: 0.9850 - val_loss: 0.0514 - val_acc: 0.9710\n",
      "Epoch 17/50\n",
      "400/400 [==============================] - 0s 439us/step - loss: 0.0353 - acc: 0.9875 - val_loss: 0.0593 - val_acc: 0.9710\n",
      "Epoch 18/50\n",
      "400/400 [==============================] - 0s 441us/step - loss: 0.0342 - acc: 0.9875 - val_loss: 0.0497 - val_acc: 0.9710\n",
      "Epoch 19/50\n",
      "400/400 [==============================] - 0s 448us/step - loss: 0.0321 - acc: 0.9875 - val_loss: 0.0536 - val_acc: 0.9710\n",
      "Epoch 20/50\n",
      "400/400 [==============================] - 0s 443us/step - loss: 0.0312 - acc: 0.9875 - val_loss: 0.0493 - val_acc: 0.9710\n",
      "Epoch 21/50\n",
      "400/400 [==============================] - 0s 448us/step - loss: 0.0284 - acc: 0.9875 - val_loss: 0.0519 - val_acc: 0.9710\n",
      "Epoch 22/50\n",
      "400/400 [==============================] - 0s 453us/step - loss: 0.0258 - acc: 0.9900 - val_loss: 0.0400 - val_acc: 0.9710\n",
      "Epoch 23/50\n",
      "400/400 [==============================] - 0s 450us/step - loss: 0.0252 - acc: 0.9875 - val_loss: 0.0432 - val_acc: 0.9710\n",
      "Epoch 24/50\n",
      "400/400 [==============================] - 0s 443us/step - loss: 0.0274 - acc: 0.9875 - val_loss: 0.0479 - val_acc: 0.9710\n",
      "Epoch 25/50\n",
      "400/400 [==============================] - 0s 448us/step - loss: 0.0224 - acc: 0.9900 - val_loss: 0.0590 - val_acc: 0.9710\n",
      "Epoch 26/50\n",
      "400/400 [==============================] - 0s 444us/step - loss: 0.0201 - acc: 0.9950 - val_loss: 0.0459 - val_acc: 0.9710\n",
      "Epoch 27/50\n",
      "400/400 [==============================] - 0s 448us/step - loss: 0.0200 - acc: 0.9925 - val_loss: 0.0522 - val_acc: 0.9710\n",
      "Epoch 28/50\n",
      "400/400 [==============================] - 0s 453us/step - loss: 0.0185 - acc: 0.9925 - val_loss: 0.0646 - val_acc: 0.9710\n",
      "Epoch 29/50\n",
      "400/400 [==============================] - 0s 448us/step - loss: 0.0156 - acc: 0.9950 - val_loss: 0.0626 - val_acc: 0.9710\n",
      "Epoch 30/50\n",
      "400/400 [==============================] - 0s 448us/step - loss: 0.0142 - acc: 0.9925 - val_loss: 0.0527 - val_acc: 0.9710\n",
      "Epoch 31/50\n",
      "400/400 [==============================] - 0s 448us/step - loss: 0.0132 - acc: 0.9925 - val_loss: 0.0550 - val_acc: 0.9710\n",
      "Epoch 32/50\n",
      "400/400 [==============================] - 0s 444us/step - loss: 0.0134 - acc: 0.9925 - val_loss: 0.0656 - val_acc: 0.9710\n",
      "Epoch 33/50\n",
      "400/400 [==============================] - 0s 448us/step - loss: 0.0104 - acc: 0.9975 - val_loss: 0.0543 - val_acc: 0.9710\n",
      "Epoch 34/50\n",
      "400/400 [==============================] - 0s 446us/step - loss: 0.0107 - acc: 0.9975 - val_loss: 0.0638 - val_acc: 0.9710\n",
      "Epoch 35/50\n",
      "400/400 [==============================] - 0s 422us/step - loss: 0.0087 - acc: 0.9950 - val_loss: 0.0599 - val_acc: 0.9710\n",
      "Epoch 36/50\n",
      "400/400 [==============================] - 0s 457us/step - loss: 0.0089 - acc: 0.9950 - val_loss: 0.0680 - val_acc: 0.9710\n",
      "Epoch 37/50\n",
      "400/400 [==============================] - 0s 433us/step - loss: 0.0077 - acc: 0.9950 - val_loss: 0.0789 - val_acc: 0.9710\n",
      "Epoch 38/50\n",
      "400/400 [==============================] - 0s 448us/step - loss: 0.0060 - acc: 1.0000 - val_loss: 0.0489 - val_acc: 0.9710\n",
      "Epoch 39/50\n",
      "400/400 [==============================] - 0s 443us/step - loss: 0.0063 - acc: 0.9975 - val_loss: 0.0621 - val_acc: 0.9710\n",
      "Epoch 40/50\n",
      "400/400 [==============================] - 0s 440us/step - loss: 0.0078 - acc: 0.9950 - val_loss: 0.0636 - val_acc: 0.9710\n",
      "Epoch 41/50\n",
      "400/400 [==============================] - 0s 455us/step - loss: 0.0048 - acc: 1.0000 - val_loss: 0.0626 - val_acc: 0.9710\n",
      "Epoch 42/50\n",
      "400/400 [==============================] - 0s 448us/step - loss: 0.0049 - acc: 1.0000 - val_loss: 0.0846 - val_acc: 0.9710\n",
      "Epoch 43/50\n",
      "400/400 [==============================] - 0s 445us/step - loss: 0.0042 - acc: 1.0000 - val_loss: 0.0716 - val_acc: 0.9710\n",
      "Epoch 44/50\n",
      "400/400 [==============================] - 0s 445us/step - loss: 0.0043 - acc: 0.9975 - val_loss: 0.0795 - val_acc: 0.9710\n",
      "Epoch 45/50\n",
      "400/400 [==============================] - 0s 455us/step - loss: 0.0032 - acc: 1.0000 - val_loss: 0.0651 - val_acc: 0.9710\n",
      "Epoch 46/50\n",
      "400/400 [==============================] - 0s 448us/step - loss: 0.0031 - acc: 1.0000 - val_loss: 0.0815 - val_acc: 0.9565\n",
      "Epoch 47/50\n",
      "400/400 [==============================] - 0s 443us/step - loss: 0.0031 - acc: 1.0000 - val_loss: 0.0678 - val_acc: 0.9710\n",
      "Epoch 48/50\n",
      "400/400 [==============================] - 0s 448us/step - loss: 0.0025 - acc: 1.0000 - val_loss: 0.0909 - val_acc: 0.9565\n",
      "Epoch 49/50\n",
      "400/400 [==============================] - 0s 450us/step - loss: 0.0034 - acc: 1.0000 - val_loss: 0.0794 - val_acc: 0.9565\n",
      "Epoch 50/50\n",
      "400/400 [==============================] - 0s 448us/step - loss: 0.0021 - acc: 1.0000 - val_loss: 0.0725 - val_acc: 0.9565\n",
      "100/100 [==============================] - 0s 60us/step\n"
     ]
    },
    {
     "data": {
      "text/plain": [
       "[0.5855812118516707, 0.88]"
      ]
     },
     "execution_count": 121,
     "metadata": {},
     "output_type": "execute_result"
    }
   ],
   "source": [
    "#best\n",
    "network_com = keras.models.Sequential()\n",
    "network_com.add(layers.Dense(30, activation='relu', input_shape=(30,)))\n",
    "network_com.add(layers.Dense(16, activation='relu'))\n",
    "network_com.add(layers.Dense(1, activation='sigmoid'))\n",
    "\n",
    "network_com.compile(optimizer=\"rmsprop\",\n",
    "               loss=\"binary_crossentropy\",\n",
    "               metrics=[\"acc\"])\n",
    "\n",
    "history= network_com.fit(slice_train_data,slice_train_label,batch_size=8,epochs=50,validation_data=(val_data,val_label))\n",
    "\n",
    "network_com.evaluate(test_data,test_label)"
   ]
  },
  {
   "cell_type": "code",
   "execution_count": 125,
   "metadata": {},
   "outputs": [
    {
     "data": {
      "image/png": "[encoded data removed]",
      "text/plain": [
       "<Figure size 432x288 with 1 Axes>"
      ]
     },
     "metadata": {
      "needs_background": "light"
     },
     "output_type": "display_data"
    },
    {
     "data": {
      "image/png": "[encoded data removed]",
      "text/plain": [
       "<Figure size 432x288 with 1 Axes>"
      ]
     },
     "metadata": {
      "needs_background": "light"
     },
     "output_type": "display_data"
    }
   ],
   "source": [
    "# history_dict = history.history\n",
    "# history_dict\n",
    "\n",
    "plt.title(\"acc\")\n",
    "plt.plot(history.history[\"acc\"], 'b', label= \"train acc\")\n",
    "plt.plot(history.history[\"val_acc\"], 'g', label= \"val acc\")\n",
    "plt.legend()\n",
    "plt.show()\n",
    "\n",
    "plt.title(\"loss\")\n",
    "plt.plot(history.history[\"loss\"], 'b', label= \"train loss\")\n",
    "plt.plot(history.history[\"val_loss\"], 'bo', label= \"val loss\")\n",
    "plt.legend()\n",
    "plt.show()"
   ]
  },
  {
   "cell_type": "code",
   "execution_count": null,
   "metadata": {},
   "outputs": [],
   "source": []
  },
  {
   "cell_type": "code",
   "execution_count": null,
   "metadata": {},
   "outputs": [],
   "source": []
  },
  {
   "cell_type": "code",
   "execution_count": null,
   "metadata": {},
   "outputs": [],
   "source": []
  }
 ],
 "metadata": {
  "kernelspec": {
   "display_name": "Python 3",
   "language": "python",
   "name": "python3"
  },
  "language_info": {
   "codemirror_mode": {
    "name": "ipython",
    "version": 3
   },
   "file_extension": ".py",
   "mimetype": "text/x-python",
   "name": "python",
   "nbconvert_exporter": "python",
   "pygments_lexer": "ipython3",
   "version": "3.7.4"
  }
 },
 "nbformat": 4,
 "nbformat_minor": 4
}
